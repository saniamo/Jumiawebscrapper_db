{
 "cells": [
  {
   "cell_type": "code",
   "execution_count": 1,
   "metadata": {},
   "outputs": [],
   "source": [
    "#Import Libraries\n",
    "\n",
    "import requests\n",
    "import bs4\n",
    "import mysql.connector\n",
    "import pandas as pd\n",
    "import json\n"
   ]
  },
  {
   "cell_type": "code",
   "execution_count": 47,
   "metadata": {},
   "outputs": [],
   "source": [
    "url_source = \"https://www.jumia.co.ke/phones-tablets/samsung/#catalog-listing\"\n",
    "url_data = requests.get(url_source)\n",
    "\n",
    "html_content = bs4.BeautifulSoup(url_data.content)\n",
    "\n",
    "all_items = html_content(\"article\", {\"class\":\"prd\"})\n",
    "\n",
    "products = []\n",
    "prices = []\n",
    "\n",
    "\n",
    "\n",
    "#all_products_prices.write(\"products,prices\\n\")\n",
    "\n",
    "for item in all_items:\n",
    "    product_names = item.find(\"h3\", {\"class\":\"name\"})\n",
    "    product_prices = item.find(\"div\", {\"class\":\"prc\"})\n",
    "    \n",
    "#     print(product_prices.text)   \n",
    "    \n",
    "    try:\n",
    "        products.append(product_names.text.\n",
    "                       replace(\";\", \"\").\n",
    "                       replace(\",\", \"\")) \n",
    "        prices.append(int(product_prices.text.replace(\"KSh\", \"\").replace(\",\", \"\")))\n",
    "                \n",
    "    except:\n",
    "        continue\n",
    "file = open(\"Products_and_Prices.csv\", \"w\") \n",
    "file.write(\"product Names, Product Prices\\n\")\n",
    "for product, price in zip(products, prices):\n",
    "    product_prices = (price)\n",
    "    product_names = (product)\n",
    "    \n",
    "file.write(f\"{product_names}, {product_prices}\\n\")\n",
    "\n",
    "        \n",
    "        \n",
    "file.close()\n",
    "#print(products)\n",
    "#print(prices)"
   ]
  },
  {
   "cell_type": "code",
   "execution_count": 3,
   "metadata": {},
   "outputs": [
    {
     "name": "stdout",
     "output_type": "stream",
     "text": [
      "('Samsung Galaxy M51 6.7\" + 128GB + 8GB RAM (Dual SIM) 7000 MAh Black', 37599)\n",
      "('Samsung Smart Phone Charger - White', 650)\n"
     ]
    }
   ],
   "source": [
    "all_products = list(zip(products, prices))\n",
    "\n",
    "max_product = sorted(all_products, key = lambda products : products[1], reverse = True)[0]\n",
    "min_product = sorted(all_products, key = lambda products : products[1], reverse = True)[-1]\n",
    "\n",
    "print(max_product)\n",
    "print(min_product)"
   ]
  },
  {
   "cell_type": "code",
   "execution_count": 4,
   "metadata": {},
   "outputs": [],
   "source": [
    "product_df = pd.DataFrame(products)\n",
    "product_df2 = pd.DataFrame(products)\n",
    "\n",
    "#renaming column\n",
    "product_df.columns = ['product_name']\n",
    "product_df2.columns = ['product_name']"
   ]
  },
  {
   "cell_type": "code",
   "execution_count": 5,
   "metadata": {},
   "outputs": [],
   "source": [
    "product_df['samsung type'] = product_df['product_name'].str[8:18]\n",
    "product_df['screen size'] = product_df2['product_name'].str[18:24]\n",
    "product_df['ram & rom'] = product_df2['product_name'].str[24:45]\n",
    "product_df['description'] = product_df['product_name'].str[44:55]\n"
   ]
  },
  {
   "cell_type": "code",
   "execution_count": 73,
   "metadata": {},
   "outputs": [
    {
     "data": {
      "text/html": [
       "<div>\n",
       "<style scoped>\n",
       "    .dataframe tbody tr th:only-of-type {\n",
       "        vertical-align: middle;\n",
       "    }\n",
       "\n",
       "    .dataframe tbody tr th {\n",
       "        vertical-align: top;\n",
       "    }\n",
       "\n",
       "    .dataframe thead th {\n",
       "        text-align: right;\n",
       "    }\n",
       "</style>\n",
       "<table border=\"1\" class=\"dataframe\">\n",
       "  <thead>\n",
       "    <tr style=\"text-align: right;\">\n",
       "      <th></th>\n",
       "      <th>samsung type</th>\n",
       "      <th>screen size</th>\n",
       "      <th>ram &amp; rom</th>\n",
       "      <th>description</th>\n",
       "    </tr>\n",
       "  </thead>\n",
       "  <tbody>\n",
       "    <tr>\n",
       "      <th>0</th>\n",
       "      <td>Galaxy A12</td>\n",
       "      <td>- 6.5</td>\n",
       "      <td>″ - 128GB + 4GB RAM -</td>\n",
       "      <td>- Dual SIM-</td>\n",
       "    </tr>\n",
       "    <tr>\n",
       "      <th>1</th>\n",
       "      <td>Galaxy A12</td>\n",
       "      <td>– 6.5</td>\n",
       "      <td>″ – 64GB ROM + 4GB RA</td>\n",
       "      <td>AM – Dual S</td>\n",
       "    </tr>\n",
       "    <tr>\n",
       "      <th>2</th>\n",
       "      <td>Galaxy A12</td>\n",
       "      <td>6.5\"</td>\n",
       "      <td>4GB RAM + 128GB (Dual</td>\n",
       "      <td>l SIM) 5000</td>\n",
       "    </tr>\n",
       "    <tr>\n",
       "      <th>3</th>\n",
       "      <td>Galaxy A32</td>\n",
       "      <td>- 6.4</td>\n",
       "      <td>″ - 128GB ROM + 6GB R</td>\n",
       "      <td>RAM - Dual</td>\n",
       "    </tr>\n",
       "    <tr>\n",
       "      <th>4</th>\n",
       "      <td>Galaxy A12</td>\n",
       "      <td>6.5\"-</td>\n",
       "      <td>64GB/4GB-5000MAH(Dual</td>\n",
       "      <td>l SIM)-Blac</td>\n",
       "    </tr>\n",
       "  </tbody>\n",
       "</table>\n",
       "</div>"
      ],
      "text/plain": [
       "  samsung type screen size              ram & rom  description\n",
       "0   Galaxy A12       - 6.5  ″ - 128GB + 4GB RAM -  - Dual SIM-\n",
       "1   Galaxy A12       – 6.5  ″ – 64GB ROM + 4GB RA  AM – Dual S\n",
       "2   Galaxy A12       6.5\"   4GB RAM + 128GB (Dual  l SIM) 5000\n",
       "3   Galaxy A32       - 6.4  ″ - 128GB ROM + 6GB R  RAM - Dual \n",
       "4   Galaxy A12       6.5\"-  64GB/4GB-5000MAH(Dual  l SIM)-Blac"
      ]
     },
     "execution_count": 73,
     "metadata": {},
     "output_type": "execute_result"
    }
   ],
   "source": [
    "new_product_df = product_df.iloc[: , 1:]\n",
    "new_product_df.head()"
   ]
  },
  {
   "cell_type": "code",
   "execution_count": 46,
   "metadata": {},
   "outputs": [],
   "source": [
    "# converting series to list\n",
    "\n",
    "samsung_list = new_product_df[\"samsung type\"].tolist()\n",
    "screen_list = new_product_df[\"screen size\"].tolist()\n",
    "ramrom_list = new_product_df[\"ram & rom\"].tolist()\n",
    "description_list = new_product_df[\"description\"].tolist()"
   ]
  },
  {
   "cell_type": "code",
   "execution_count": 8,
   "metadata": {},
   "outputs": [],
   "source": [
    "#convert to json\n",
    "\n",
    "price = json.dumps(prices)\n",
    "\n",
    "samsung_type = json.dumps(samsung_list)\n",
    "screen_size = json.dumps(screen_list)\n",
    "ram_rom = json.dumps(ramrom_list)\n",
    "description = json.dumps(description_list)\n"
   ]
  },
  {
   "cell_type": "code",
   "execution_count": 74,
   "metadata": {},
   "outputs": [],
   "source": [
    "#saving data to mysqldatabase"
   ]
  },
  {
   "cell_type": "code",
   "execution_count": 72,
   "metadata": {},
   "outputs": [],
   "source": [
    "import mysql.connector\n",
    "mydb = mysql.connector.connect(host=\"localhost\",user=\"root\",password=\"\",database=\"jumia\")\n",
    "cursor = mydb.cursor()\n",
    "\n",
    "for i in range(len(samsung_list)):\n",
    "    price = prices[i] if i<len(prices) else 0 \n",
    "    screen = screen_list[i] if i<len(screen_list) else \"n/a\"\n",
    "    ramrom = ramrom_list[i] if i<len(ramrom_list) else \"n/a\"\n",
    "    description = description_list[i] if i<len(description_list) else \"n/a\" \n",
    "\n",
    "    vals = (i,samsung_list[i]+str(i),price,screen,ramrom,description)\n",
    "    \n",
    "    sql = \"INSERT INTO jumiaProducts(id,samsung_name,phone_price,screen_inches,ramrom,phone_description)VALUES(%s,%s,%s,%s,%s,%s)\"\n",
    "\n",
    "    cursor.execute(sql,vals)\n",
    "    mydb.commit()\n",
    "   "
   ]
  },
  {
   "cell_type": "code",
   "execution_count": null,
   "metadata": {},
   "outputs": [],
   "source": []
  }
 ],
 "metadata": {
  "kernelspec": {
   "display_name": "Python 3",
   "language": "python",
   "name": "python3"
  },
  "language_info": {
   "codemirror_mode": {
    "name": "ipython",
    "version": 3
   },
   "file_extension": ".py",
   "mimetype": "text/x-python",
   "name": "python",
   "nbconvert_exporter": "python",
   "pygments_lexer": "ipython3",
   "version": "3.8.5"
  }
 },
 "nbformat": 4,
 "nbformat_minor": 4
}
